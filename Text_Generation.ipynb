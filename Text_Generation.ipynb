{
 "cells": [
  {
   "cell_type": "code",
   "execution_count": 1,
   "metadata": {},
   "outputs": [],
   "source": [
    "# Loading the required libraries\n",
    "import numpy as np\n",
    "import pandas as pd\n",
    "import pickle\n",
    "from collections import defaultdict\n",
    "import random"
   ]
  },
  {
   "cell_type": "markdown",
   "metadata": {
    "id": "CTv1Q1Kc43SG"
   },
   "source": [
    "### **Text Generation**"
   ]
  },
  {
   "cell_type": "code",
   "execution_count": 2,
   "metadata": {
    "colab": {
     "base_uri": "https://localhost:8080/",
     "height": 269
    },
    "id": "34UTiw5bC4Ri",
    "outputId": "69492a58-d8c5-481a-9464-b5ac7bcf04d9"
   },
   "outputs": [
    {
     "data": {
      "text/html": [
       "<div>\n",
       "<style scoped>\n",
       "    .dataframe tbody tr th:only-of-type {\n",
       "        vertical-align: middle;\n",
       "    }\n",
       "\n",
       "    .dataframe tbody tr th {\n",
       "        vertical-align: top;\n",
       "    }\n",
       "\n",
       "    .dataframe thead th {\n",
       "        text-align: right;\n",
       "    }\n",
       "</style>\n",
       "<table border=\"1\" class=\"dataframe\">\n",
       "  <thead>\n",
       "    <tr style=\"text-align: right;\">\n",
       "      <th></th>\n",
       "      <th>Comedians</th>\n",
       "      <th>Transcript</th>\n",
       "    </tr>\n",
       "  </thead>\n",
       "  <tbody>\n",
       "    <tr>\n",
       "      <th>0</th>\n",
       "      <td>Dave Chappelle</td>\n",
       "      <td>this is dave he tell dirty joke for a living t...</td>\n",
       "    </tr>\n",
       "    <tr>\n",
       "      <th>1</th>\n",
       "      <td>Bill Burr</td>\n",
       "      <td>cheer and applause all right thank you thank y...</td>\n",
       "    </tr>\n",
       "    <tr>\n",
       "      <th>2</th>\n",
       "      <td>Jim Jefferies</td>\n",
       "      <td>car horn honk audience cheering announcer lady...</td>\n",
       "    </tr>\n",
       "    <tr>\n",
       "      <th>3</th>\n",
       "      <td>John Mulaney</td>\n",
       "      <td>armed with boyish charm and a sharp wit the fo...</td>\n",
       "    </tr>\n",
       "    <tr>\n",
       "      <th>4</th>\n",
       "      <td>Anthony Jeselnik</td>\n",
       "      <td>thank you thank you thank you san francisco th...</td>\n",
       "    </tr>\n",
       "    <tr>\n",
       "      <th>5</th>\n",
       "      <td>Mike Birbiglia</td>\n",
       "      <td>wow hey thank you thanks thank you guy hey sea...</td>\n",
       "    </tr>\n",
       "    <tr>\n",
       "      <th>6</th>\n",
       "      <td>Joe Rogan</td>\n",
       "      <td>rock music playingaudience cheeringannouncerla...</td>\n",
       "    </tr>\n",
       "  </tbody>\n",
       "</table>\n",
       "</div>"
      ],
      "text/plain": [
       "          Comedians                                         Transcript\n",
       "0    Dave Chappelle  this is dave he tell dirty joke for a living t...\n",
       "1         Bill Burr  cheer and applause all right thank you thank y...\n",
       "2     Jim Jefferies  car horn honk audience cheering announcer lady...\n",
       "3      John Mulaney  armed with boyish charm and a sharp wit the fo...\n",
       "4  Anthony Jeselnik  thank you thank you thank you san francisco th...\n",
       "5    Mike Birbiglia  wow hey thank you thanks thank you guy hey sea...\n",
       "6         Joe Rogan  rock music playingaudience cheeringannouncerla..."
      ]
     },
     "execution_count": 2,
     "metadata": {},
     "output_type": "execute_result"
    }
   ],
   "source": [
    "# Reading the pickle files\n",
    "data = pd.read_pickle('comedians_cleaned_data.pkl')\n",
    "comedians = ['Dave Chappelle','Bill Burr', 'Jim Jefferies', 'John Mulaney','Anthony Jeselnik', 'Mike Birbiglia','Joe Rogan']\n",
    "data"
   ]
  },
  {
   "cell_type": "code",
   "execution_count": 3,
   "metadata": {
    "id": "0kN8wLvSeCWz"
   },
   "outputs": [],
   "source": [
    "# Using Markov Chain for text generation \n",
    "# According to Markov's chain probability of each event depends only on the previous event.\n",
    "def markov_chain(text):\n",
    "    words = text.split(' ')\n",
    "    m_dict = defaultdict(list)\n",
    "    for current_word, next_word in zip(words[0:-1], words[1:]):\n",
    "        m_dict[current_word].append(next_word)\n",
    "    m_dict = dict(m_dict)\n",
    "    return m_dict"
   ]
  },
  {
   "cell_type": "code",
   "execution_count": 4,
   "metadata": {
    "id": "Jj96MnKXDdAJ"
   },
   "outputs": [],
   "source": [
    "# Generating sentence using Markov Chain\n",
    "def generate_sentence(chain, count=15):\n",
    "    word1 = random.choice(list(chain.keys()))\n",
    "    sentence = word1.capitalize()\n",
    "    for i in range(count-1):\n",
    "        word2 = random.choice(chain[word1])\n",
    "        word1 = word2\n",
    "        sentence += ' ' + word2\n",
    "        \n",
    "    sentence += '.'\n",
    "    return(sentence)"
   ]
  },
  {
   "cell_type": "code",
   "execution_count": 5,
   "metadata": {
    "id": "T12xCGLqC-LC"
   },
   "outputs": [
    {
     "data": {
      "text/plain": [
       "'Revolution ♪♪ in television i know im on his back of course everything else is.'"
      ]
     },
     "execution_count": 5,
     "metadata": {},
     "output_type": "execute_result"
    }
   ],
   "source": [
    "# Generating text using Dave Transcripts\n",
    "dave_text = data.Transcript.loc[0]\n",
    "dave_dict = markov_chain(dave_text)\n",
    "generate_sentence(dave_dict)"
   ]
  },
  {
   "cell_type": "code",
   "execution_count": 6,
   "metadata": {
    "colab": {
     "base_uri": "https://localhost:8080/",
     "height": 35
    },
    "id": "ztox7F5hiwTL",
    "outputId": "c16bf326-4c49-45dd-cc0e-b8987b5aaf90"
   },
   "outputs": [
    {
     "data": {
      "text/plain": [
       "'Police shot half of this water but if you gotta google i just not there i am i wa gonna.'"
      ]
     },
     "execution_count": 6,
     "metadata": {},
     "output_type": "execute_result"
    }
   ],
   "source": [
    "# Generating text using Dave Transcripts and stopping if a punctuation comes before 20 words\n",
    "def generate_sentence_2(chain, count=20): \n",
    "    word1 = random.choice(list(chain.keys()))\n",
    "    sentence = word1.capitalize()\n",
    "    flag=0\n",
    "    for i in range(count-1):\n",
    "        word2 = random.choice(chain[word1])\n",
    "        word1 = word2\n",
    "        sentence += ' ' + word2\n",
    "        if(word2[-1]=='.' or word2[-1]=='?' or word2[-1]=='!'):\n",
    "          flag=1\n",
    "          break\n",
    "\n",
    "    sentence +=  '.'\n",
    "    return(sentence)\n",
    "\n",
    "generate_sentence_2(dave_dict)"
   ]
  },
  {
   "cell_type": "code",
   "execution_count": null,
   "metadata": {},
   "outputs": [],
   "source": []
  }
 ],
 "metadata": {
  "kernelspec": {
   "display_name": "Python 3.8.5 ('base')",
   "language": "python",
   "name": "python3"
  },
  "language_info": {
   "codemirror_mode": {
    "name": "ipython",
    "version": 3
   },
   "file_extension": ".py",
   "mimetype": "text/x-python",
   "name": "python",
   "nbconvert_exporter": "python",
   "pygments_lexer": "ipython3",
   "version": "3.8.5"
  },
  "vscode": {
   "interpreter": {
    "hash": "a077222d77dfe082b8f1dd562ad70e458ac2ab76993a0b248ab0476e32e9e8dd"
   }
  }
 },
 "nbformat": 4,
 "nbformat_minor": 4
}
